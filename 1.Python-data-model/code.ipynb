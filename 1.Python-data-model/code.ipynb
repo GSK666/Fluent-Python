{
 "metadata": {
  "language_info": {
   "codemirror_mode": {
    "name": "ipython",
    "version": 3
   },
   "file_extension": ".py",
   "mimetype": "text/x-python",
   "name": "python",
   "nbconvert_exporter": "python",
   "pygments_lexer": "ipython3",
   "version": "3.7.9-final"
  },
  "orig_nbformat": 2,
  "kernelspec": {
   "name": "python3",
   "display_name": "Python 3.7.9 64-bit ('base': conda)",
   "metadata": {
    "interpreter": {
     "hash": "1ce46117b2f4e06ec54e0f3b7504252d6dbddd299565600c8895eb0b9c031b5d"
    }
   }
  }
 },
 "nbformat": 4,
 "nbformat_minor": 2,
 "cells": [
  {
   "cell_type": "code",
   "execution_count": 1,
   "metadata": {},
   "outputs": [],
   "source": [
    "#实现纸牌类\n",
    "import collections\n",
    "\n",
    "Card = collections.namedtuple('Card', ['rank', 'suit'])\n",
    "\n",
    "class FrenchDeck:\n",
    "    ranks = [str(n) for n in range(2,11)] + list('JQKA')\n",
    "    suits = 'spades diamonds clubs hearts'.split()\n",
    "\n",
    "    def __init__(self):\n",
    "        self._cards = [Card(rank,suit) for suit in self.suits\n",
    "                                        for rank in self.ranks]\n",
    "\n",
    "    def __len__(self):\n",
    "        return len(self._cards)\n",
    "\n",
    "    def __getitem__(self,position):\n",
    "        return self._cards[position]"
   ]
  },
  {
   "cell_type": "code",
   "execution_count": 2,
   "metadata": {},
   "outputs": [
    {
     "output_type": "execute_result",
     "data": {
      "text/plain": [
       "Card(rank='7', suit='diamonds')"
      ]
     },
     "metadata": {},
     "execution_count": 2
    }
   ],
   "source": [
    "beer_card = Card('7','diamonds')\n",
    "beer_card"
   ]
  },
  {
   "cell_type": "code",
   "execution_count": 3,
   "metadata": {},
   "outputs": [
    {
     "output_type": "execute_result",
     "data": {
      "text/plain": [
       "52"
      ]
     },
     "metadata": {},
     "execution_count": 3
    }
   ],
   "source": [
    "deck = FrenchDeck()\n",
    "len(deck)"
   ]
  },
  {
   "cell_type": "code",
   "execution_count": 4,
   "metadata": {},
   "outputs": [
    {
     "output_type": "execute_result",
     "data": {
      "text/plain": [
       "Card(rank='2', suit='spades')"
      ]
     },
     "metadata": {},
     "execution_count": 4
    }
   ],
   "source": [
    "deck[0]#由__getitem__方法提供"
   ]
  },
  {
   "cell_type": "code",
   "execution_count": 5,
   "metadata": {},
   "outputs": [
    {
     "output_type": "execute_result",
     "data": {
      "text/plain": [
       "Card(rank='2', suit='clubs')"
      ]
     },
     "metadata": {},
     "execution_count": 5
    }
   ],
   "source": [
    "from random import choice\n",
    "choice(deck)"
   ]
  },
  {
   "cell_type": "code",
   "execution_count": 6,
   "metadata": {},
   "outputs": [
    {
     "output_type": "execute_result",
     "data": {
      "text/plain": [
       "[Card(rank='2', suit='spades'),\n",
       " Card(rank='3', suit='spades'),\n",
       " Card(rank='4', suit='spades')]"
      ]
     },
     "metadata": {},
     "execution_count": 6
    }
   ],
   "source": [
    "#__getitem__方法把[]操作给了self._cards，所以支持切片操作\n",
    "deck[:3]"
   ]
  },
  {
   "cell_type": "code",
   "execution_count": 7,
   "metadata": {},
   "outputs": [
    {
     "output_type": "stream",
     "name": "stdout",
     "text": [
      "Card(rank='2', suit='spades')\nCard(rank='3', suit='spades')\nCard(rank='4', suit='spades')\nCard(rank='5', suit='spades')\nCard(rank='6', suit='spades')\nCard(rank='7', suit='spades')\nCard(rank='8', suit='spades')\nCard(rank='9', suit='spades')\nCard(rank='10', suit='spades')\nCard(rank='J', suit='spades')\nCard(rank='Q', suit='spades')\nCard(rank='K', suit='spades')\nCard(rank='A', suit='spades')\nCard(rank='2', suit='diamonds')\nCard(rank='3', suit='diamonds')\nCard(rank='4', suit='diamonds')\nCard(rank='5', suit='diamonds')\nCard(rank='6', suit='diamonds')\nCard(rank='7', suit='diamonds')\nCard(rank='8', suit='diamonds')\nCard(rank='9', suit='diamonds')\nCard(rank='10', suit='diamonds')\nCard(rank='J', suit='diamonds')\nCard(rank='Q', suit='diamonds')\nCard(rank='K', suit='diamonds')\nCard(rank='A', suit='diamonds')\nCard(rank='2', suit='clubs')\nCard(rank='3', suit='clubs')\nCard(rank='4', suit='clubs')\nCard(rank='5', suit='clubs')\nCard(rank='6', suit='clubs')\nCard(rank='7', suit='clubs')\nCard(rank='8', suit='clubs')\nCard(rank='9', suit='clubs')\nCard(rank='10', suit='clubs')\nCard(rank='J', suit='clubs')\nCard(rank='Q', suit='clubs')\nCard(rank='K', suit='clubs')\nCard(rank='A', suit='clubs')\nCard(rank='2', suit='hearts')\nCard(rank='3', suit='hearts')\nCard(rank='4', suit='hearts')\nCard(rank='5', suit='hearts')\nCard(rank='6', suit='hearts')\nCard(rank='7', suit='hearts')\nCard(rank='8', suit='hearts')\nCard(rank='9', suit='hearts')\nCard(rank='10', suit='hearts')\nCard(rank='J', suit='hearts')\nCard(rank='Q', suit='hearts')\nCard(rank='K', suit='hearts')\nCard(rank='A', suit='hearts')\n"
     ]
    }
   ],
   "source": [
    "#实现__getitem__方法，变成可迭代的了\n",
    "for card in deck:\n",
    "    print(card)"
   ]
  },
  {
   "cell_type": "code",
   "execution_count": 8,
   "metadata": {},
   "outputs": [
    {
     "output_type": "stream",
     "name": "stdout",
     "text": [
      "Card(rank='A', suit='hearts')\nCard(rank='K', suit='hearts')\nCard(rank='Q', suit='hearts')\nCard(rank='J', suit='hearts')\nCard(rank='10', suit='hearts')\nCard(rank='9', suit='hearts')\nCard(rank='8', suit='hearts')\nCard(rank='7', suit='hearts')\nCard(rank='6', suit='hearts')\nCard(rank='5', suit='hearts')\nCard(rank='4', suit='hearts')\nCard(rank='3', suit='hearts')\nCard(rank='2', suit='hearts')\nCard(rank='A', suit='clubs')\nCard(rank='K', suit='clubs')\nCard(rank='Q', suit='clubs')\nCard(rank='J', suit='clubs')\nCard(rank='10', suit='clubs')\nCard(rank='9', suit='clubs')\nCard(rank='8', suit='clubs')\nCard(rank='7', suit='clubs')\nCard(rank='6', suit='clubs')\nCard(rank='5', suit='clubs')\nCard(rank='4', suit='clubs')\nCard(rank='3', suit='clubs')\nCard(rank='2', suit='clubs')\nCard(rank='A', suit='diamonds')\nCard(rank='K', suit='diamonds')\nCard(rank='Q', suit='diamonds')\nCard(rank='J', suit='diamonds')\nCard(rank='10', suit='diamonds')\nCard(rank='9', suit='diamonds')\nCard(rank='8', suit='diamonds')\nCard(rank='7', suit='diamonds')\nCard(rank='6', suit='diamonds')\nCard(rank='5', suit='diamonds')\nCard(rank='4', suit='diamonds')\nCard(rank='3', suit='diamonds')\nCard(rank='2', suit='diamonds')\nCard(rank='A', suit='spades')\nCard(rank='K', suit='spades')\nCard(rank='Q', suit='spades')\nCard(rank='J', suit='spades')\nCard(rank='10', suit='spades')\nCard(rank='9', suit='spades')\nCard(rank='8', suit='spades')\nCard(rank='7', suit='spades')\nCard(rank='6', suit='spades')\nCard(rank='5', suit='spades')\nCard(rank='4', suit='spades')\nCard(rank='3', suit='spades')\nCard(rank='2', suit='spades')\n"
     ]
    }
   ],
   "source": [
    "for card in reversed(deck):\n",
    "    print(card)"
   ]
  },
  {
   "cell_type": "code",
   "execution_count": 9,
   "metadata": {},
   "outputs": [
    {
     "output_type": "stream",
     "name": "stdout",
     "text": [
      "Card(rank='2', suit='clubs')\nCard(rank='2', suit='diamonds')\nCard(rank='2', suit='hearts')\nCard(rank='2', suit='spades')\nCard(rank='3', suit='clubs')\nCard(rank='3', suit='diamonds')\nCard(rank='3', suit='hearts')\nCard(rank='3', suit='spades')\nCard(rank='4', suit='clubs')\nCard(rank='4', suit='diamonds')\nCard(rank='4', suit='hearts')\nCard(rank='4', suit='spades')\nCard(rank='5', suit='clubs')\nCard(rank='5', suit='diamonds')\nCard(rank='5', suit='hearts')\nCard(rank='5', suit='spades')\nCard(rank='6', suit='clubs')\nCard(rank='6', suit='diamonds')\nCard(rank='6', suit='hearts')\nCard(rank='6', suit='spades')\nCard(rank='7', suit='clubs')\nCard(rank='7', suit='diamonds')\nCard(rank='7', suit='hearts')\nCard(rank='7', suit='spades')\nCard(rank='8', suit='clubs')\nCard(rank='8', suit='diamonds')\nCard(rank='8', suit='hearts')\nCard(rank='8', suit='spades')\nCard(rank='9', suit='clubs')\nCard(rank='9', suit='diamonds')\nCard(rank='9', suit='hearts')\nCard(rank='9', suit='spades')\nCard(rank='10', suit='clubs')\nCard(rank='10', suit='diamonds')\nCard(rank='10', suit='hearts')\nCard(rank='10', suit='spades')\nCard(rank='J', suit='clubs')\nCard(rank='J', suit='diamonds')\nCard(rank='J', suit='hearts')\nCard(rank='J', suit='spades')\nCard(rank='Q', suit='clubs')\nCard(rank='Q', suit='diamonds')\nCard(rank='Q', suit='hearts')\nCard(rank='Q', suit='spades')\nCard(rank='K', suit='clubs')\nCard(rank='K', suit='diamonds')\nCard(rank='K', suit='hearts')\nCard(rank='K', suit='spades')\nCard(rank='A', suit='clubs')\nCard(rank='A', suit='diamonds')\nCard(rank='A', suit='hearts')\nCard(rank='A', suit='spades')\n"
     ]
    }
   ],
   "source": [
    "#对牌进行排序\n",
    "suit_values = dict(spades=3, hearts=2, diamonds=1,clubs=0)\n",
    "def spades_high(card):\n",
    "    rank_value = FrenchDeck.ranks.index(card.rank)\n",
    "    return rank_value * len(suit_values) + suit_values[card.suit]\n",
    "for card in sorted(deck, key=spades_high):\n",
    "    print(card)"
   ]
  },
  {
   "cell_type": "code",
   "execution_count": 11,
   "metadata": {},
   "outputs": [],
   "source": [
    "#向量类\n",
    "from math import hypot\n",
    "\n",
    "class Vector:\n",
    "    def __init__(self, x=0, y=0):\n",
    "        self.x = x\n",
    "        self.y = y\n",
    "\n",
    "    def __repr__(self):\n",
    "        return 'Vector(%r, %r)' %(self.x, self.y)\n",
    "\n",
    "    def __abs__(self):\n",
    "        return hypot(self.x, self.y)\n",
    "    \n",
    "    def __bool__(self):\n",
    "        return bool(abs(self))\n",
    "\n",
    "    def __add__(self, other):\n",
    "        x = self.x + other.x\n",
    "        y = self.y + other.y\n",
    "        return Vector(x,y)\n",
    "\n",
    "    def __mul__(self,scalar):\n",
    "        return Vector(self.x * scalar, self.y * scalar)"
   ]
  },
  {
   "cell_type": "code",
   "execution_count": 12,
   "metadata": {},
   "outputs": [
    {
     "output_type": "execute_result",
     "data": {
      "text/plain": [
       "Vector(4, 5)"
      ]
     },
     "metadata": {},
     "execution_count": 12
    }
   ],
   "source": [
    "v1 = Vector(2,4)\n",
    "v2 = Vector(2,1)\n",
    "v1+v2"
   ]
  },
  {
   "cell_type": "code",
   "execution_count": 13,
   "metadata": {},
   "outputs": [
    {
     "output_type": "execute_result",
     "data": {
      "text/plain": [
       "4.47213595499958"
      ]
     },
     "metadata": {},
     "execution_count": 13
    }
   ],
   "source": [
    "abs(v1)"
   ]
  },
  {
   "cell_type": "code",
   "execution_count": 15,
   "metadata": {},
   "outputs": [
    {
     "output_type": "execute_result",
     "data": {
      "text/plain": [
       "Vector(6, 12)"
      ]
     },
     "metadata": {},
     "execution_count": 15
    }
   ],
   "source": [
    "v1 * 3"
   ]
  },
  {
   "cell_type": "code",
   "execution_count": 16,
   "metadata": {},
   "outputs": [
    {
     "output_type": "execute_result",
     "data": {
      "text/plain": [
       "13.416407864998739"
      ]
     },
     "metadata": {},
     "execution_count": 16
    }
   ],
   "source": [
    "abs(v1*3)"
   ]
  },
  {
   "cell_type": "code",
   "execution_count": null,
   "metadata": {},
   "outputs": [],
   "source": []
  }
 ]
}