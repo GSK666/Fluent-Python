{
 "metadata": {
  "language_info": {
   "codemirror_mode": {
    "name": "ipython",
    "version": 3
   },
   "file_extension": ".py",
   "mimetype": "text/x-python",
   "name": "python",
   "nbconvert_exporter": "python",
   "pygments_lexer": "ipython3",
   "version": "3.7.9-final"
  },
  "orig_nbformat": 2,
  "kernelspec": {
   "name": "python3",
   "display_name": "Python 3.7.9 64-bit ('base': conda)",
   "metadata": {
    "interpreter": {
     "hash": "1ce46117b2f4e06ec54e0f3b7504252d6dbddd299565600c8895eb0b9c031b5d"
    }
   }
  }
 },
 "nbformat": 4,
 "nbformat_minor": 2,
 "cells": [
  {
   "cell_type": "code",
   "execution_count": null,
   "metadata": {},
   "outputs": [],
   "source": [
    "@decorate\n",
    "def target():\n",
    "    print('running target()')"
   ]
  },
  {
   "cell_type": "code",
   "execution_count": null,
   "metadata": {},
   "outputs": [],
   "source": [
    "def target():\n",
    "    print('running target()')\n",
    "target = decorate(target)"
   ]
  },
  {
   "cell_type": "code",
   "execution_count": 2,
   "metadata": {},
   "outputs": [
    {
     "output_type": "stream",
     "name": "stdout",
     "text": [
      "running registry(<function f1 at 0x7fb7eed05cb0>)\nrunning registry(<function f2 at 0x7fb7eee00cb0>)\nrunnning main()\nregistry -> [<function f1 at 0x7fb7eed05cb0>, <function f2 at 0x7fb7eee00cb0>]\nrunning f1()\nrunning f2()\nrunning f3()\n"
     ]
    }
   ],
   "source": [
    "registry = []\n",
    "\n",
    "def register(func):\n",
    "    print('running registry(%s)' % func)\n",
    "    registry.append(func)\n",
    "    return func\n",
    "\n",
    "@register\n",
    "def f1():\n",
    "    print('running f1()')\n",
    "\n",
    "@register\n",
    "def f2():\n",
    "    print('running f2()')\n",
    "\n",
    "def f3():\n",
    "    print('running f3()')\n",
    "\n",
    "def main():\n",
    "    print('runnning main()')\n",
    "    print('registry ->', registry)\n",
    "    f1()\n",
    "    f2()\n",
    "    f3()\n",
    "\n",
    "if __name__ == '__main__':\n",
    "    main()"
   ]
  },
  {
   "cell_type": "code",
   "execution_count": 4,
   "metadata": {},
   "outputs": [],
   "source": [
    "promos = []\n",
    "\n",
    "def promotion(promo_func):\n",
    "    promos.append(promo_func)\n",
    "    return promo_func\n",
    "\n",
    "@promotion\n",
    "def fidelity_promo(order): \n",
    "    return order.total() * .05 if order.customer.fidelity >= 1000 else 0\n",
    "\n",
    "@promotion\n",
    "def bulk_item_promo(order): \n",
    "    discount = 0\n",
    "    for item in order.cart:\n",
    "        if item.quantity >= 20:\n",
    "            discount += item.total() * .1\n",
    "    return discount\n",
    "\n",
    "@promotion\n",
    "def large_order_promo(order):\n",
    "    distinct_items = {item.product for item in order.cart} \n",
    "    if len(distinct_items) >= 10:\n",
    "        return order.total() * .07 \n",
    "    return 0\n",
    "\n",
    "def best_promo(order):\n",
    "    return max(promo(order) for promo in promos)\n"
   ]
  },
  {
   "cell_type": "code",
   "execution_count": 1,
   "metadata": {},
   "outputs": [],
   "source": [
    "import time\n",
    "\n",
    "def clock(func):\n",
    "    def clocked(*args):\n",
    "        t0 = time.perf_counter()\n",
    "        result = func(*args)\n",
    "        elapsed = time.perf_counter() - t0\n",
    "        name = func.__name__\n",
    "        arg_str = ', '.join(repr(arg) for arg in args)\n",
    "        print('[%0.8fs] %s(%s) -> %r' % (elapsed, name, arg_str, result))\n",
    "        return result\n",
    "    return clocked"
   ]
  },
  {
   "cell_type": "code",
   "execution_count": 2,
   "metadata": {},
   "outputs": [],
   "source": [
    "@clock\n",
    "def snooze(seconds):\n",
    "    time.sleep(seconds)\n",
    "\n",
    "@clock\n",
    "def factorial(n):\n",
    "    return 1 if n<2 else n*factorial(n-1)"
   ]
  },
  {
   "cell_type": "code",
   "execution_count": 3,
   "metadata": {},
   "outputs": [
    {
     "output_type": "stream",
     "name": "stdout",
     "text": [
      "****************************** calling snooze(.123)\n[0.12626023s] snooze(0.123) -> None\n****************************** calling factorial(6)\n[0.00000051s] factorial(1) -> 1\n[0.00004217s] factorial(2) -> 2\n[0.00005897s] factorial(3) -> 6\n[0.00007129s] factorial(4) -> 24\n[0.00008341s] factorial(5) -> 120\n[0.00011854s] factorial(6) -> 720\n6! =  720\n"
     ]
    }
   ],
   "source": [
    "print('*'*30, \"calling snooze(.123)\")\n",
    "snooze(.123)\n",
    "print('*'*30, \"calling factorial(6)\")\n",
    "print(\"6! = \", factorial(6))"
   ]
  },
  {
   "cell_type": "code",
   "execution_count": 4,
   "metadata": {},
   "outputs": [
    {
     "output_type": "stream",
     "name": "stdout",
     "text": [
      "[0.00000067s] fibonacci(0) -> 0\n[0.00000075s] fibonacci(1) -> 1\n[0.00100102s] fibonacci(2) -> 1\n[0.00000038s] fibonacci(1) -> 1\n[0.00000115s] fibonacci(0) -> 0\n[0.00000042s] fibonacci(1) -> 1\n[0.00007626s] fibonacci(2) -> 1\n[0.00010743s] fibonacci(3) -> 2\n[0.00113967s] fibonacci(4) -> 3\n[0.00000021s] fibonacci(1) -> 1\n[0.00000023s] fibonacci(0) -> 0\n[0.00000022s] fibonacci(1) -> 1\n[0.00001842s] fibonacci(2) -> 1\n[0.00003766s] fibonacci(3) -> 2\n[0.00000022s] fibonacci(0) -> 0\n[0.00000021s] fibonacci(1) -> 1\n[0.00002991s] fibonacci(2) -> 1\n[0.00000028s] fibonacci(1) -> 1\n[0.00000049s] fibonacci(0) -> 0\n[0.00000038s] fibonacci(1) -> 1\n[0.00003375s] fibonacci(2) -> 1\n[0.00010165s] fibonacci(3) -> 2\n[0.00017679s] fibonacci(4) -> 3\n[0.00045954s] fibonacci(5) -> 5\n[0.00589539s] fibonacci(6) -> 8\n8\n"
     ]
    }
   ],
   "source": [
    "@clock\n",
    "def fibonacci(n):\n",
    "    if n<2:\n",
    "        return n\n",
    "    else:\n",
    "        return fibonacci(n-2) + fibonacci(n-1)\n",
    "print(fibonacci(6))"
   ]
  },
  {
   "cell_type": "code",
   "execution_count": 6,
   "metadata": {},
   "outputs": [
    {
     "output_type": "stream",
     "name": "stdout",
     "text": [
      "[0.00000074s] fibonacci(0) -> 0\n[0.00000077s] fibonacci(1) -> 1\n[0.00021055s] fibonacci(2) -> 1\n[0.00000026s] fibonacci(1) -> 1\n[0.00000021s] fibonacci(2) -> 1\n[0.00003134s] fibonacci(3) -> 2\n[0.00029933s] fibonacci(4) -> 3\n[0.00000015s] fibonacci(3) -> 2\n[0.00000016s] fibonacci(4) -> 3\n[0.00002854s] fibonacci(5) -> 5\n[0.00035641s] fibonacci(6) -> 8\n8\n"
     ]
    }
   ],
   "source": [
    "import functools\n",
    "@clock\n",
    "@functools.lru_cache()\n",
    "def fibonacci(n):\n",
    "    if n<2:\n",
    "        return n\n",
    "    else:\n",
    "        return fibonacci(n-2) + fibonacci(n-1)\n",
    "print(fibonacci(6))"
   ]
  },
  {
   "cell_type": "code",
   "execution_count": 7,
   "metadata": {},
   "outputs": [
    {
     "output_type": "stream",
     "name": "stdout",
     "text": [
      "[0.00000032s] fibonacci(0) -> 0\n[0.00000054s] fibonacci(1) -> 1\n[0.00019998s] fibonacci(2) -> 1\n[0.00000090s] fibonacci(3) -> 2\n[0.00024183s] fibonacci(4) -> 3\n[0.00000069s] fibonacci(5) -> 5\n[0.00028486s] fibonacci(6) -> 8\n8\n"
     ]
    }
   ],
   "source": [
    "@functools.lru_cache()\n",
    "@clock\n",
    "def fibonacci(n):\n",
    "    if n<2:\n",
    "        return n\n",
    "    else:\n",
    "        return fibonacci(n-2) + fibonacci(n-1)\n",
    "print(fibonacci(6))"
   ]
  },
  {
   "cell_type": "code",
   "execution_count": null,
   "metadata": {},
   "outputs": [],
   "source": []
  }
 ]
}